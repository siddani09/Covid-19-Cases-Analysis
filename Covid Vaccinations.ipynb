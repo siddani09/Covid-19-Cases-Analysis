{
 "cells": [
  {
   "cell_type": "code",
   "execution_count": 2,
   "metadata": {},
   "outputs": [],
   "source": [
    "import numpy as np, pandas as pd\n",
    "from IPython.display import Image\n",
    "import matplotlib.pyplot as plt, seaborn as sns\n",
    "import scipy\n",
    "import warnings\n",
    "import plotly.express as px\n",
    "from itertools import product\n",
    "import statsmodels.api as sm\n",
    "import datetime\n",
    "from tqdm import tqdm\n",
    "warnings.filterwarnings('ignore')"
   ]
  },
  {
   "cell_type": "code",
   "execution_count": 3,
   "metadata": {},
   "outputs": [],
   "source": [
    "data = pd.read_csv(\"C:/Users/sidda/OneDrive/Desktop/Tableau/Covid-19 World Vaccination Progress/archive/country_vaccinations.csv\")"
   ]
  },
  {
   "cell_type": "code",
   "execution_count": 4,
   "metadata": {},
   "outputs": [
    {
     "data": {
      "text/html": [
       "<div>\n",
       "<style scoped>\n",
       "    .dataframe tbody tr th:only-of-type {\n",
       "        vertical-align: middle;\n",
       "    }\n",
       "\n",
       "    .dataframe tbody tr th {\n",
       "        vertical-align: top;\n",
       "    }\n",
       "\n",
       "    .dataframe thead th {\n",
       "        text-align: right;\n",
       "    }\n",
       "</style>\n",
       "<table border=\"1\" class=\"dataframe\">\n",
       "  <thead>\n",
       "    <tr style=\"text-align: right;\">\n",
       "      <th></th>\n",
       "      <th>country</th>\n",
       "      <th>iso_code</th>\n",
       "      <th>date</th>\n",
       "      <th>total_vaccinations</th>\n",
       "      <th>people_vaccinated</th>\n",
       "      <th>people_fully_vaccinated</th>\n",
       "      <th>daily_vaccinations_raw</th>\n",
       "      <th>daily_vaccinations</th>\n",
       "      <th>total_vaccinations_per_hundred</th>\n",
       "      <th>people_vaccinated_per_hundred</th>\n",
       "      <th>people_fully_vaccinated_per_hundred</th>\n",
       "      <th>daily_vaccinations_per_million</th>\n",
       "      <th>vaccines</th>\n",
       "      <th>source_name</th>\n",
       "      <th>source_website</th>\n",
       "    </tr>\n",
       "  </thead>\n",
       "  <tbody>\n",
       "    <tr>\n",
       "      <th>0</th>\n",
       "      <td>Algeria</td>\n",
       "      <td>DZA</td>\n",
       "      <td>1/29/2021</td>\n",
       "      <td>0.0</td>\n",
       "      <td>NaN</td>\n",
       "      <td>NaN</td>\n",
       "      <td>NaN</td>\n",
       "      <td>NaN</td>\n",
       "      <td>0.00</td>\n",
       "      <td>NaN</td>\n",
       "      <td>NaN</td>\n",
       "      <td>NaN</td>\n",
       "      <td>Sputnik V</td>\n",
       "      <td>Ministry of Health</td>\n",
       "      <td>https://www.aps.dz/regions/116777-blida-covid-...</td>\n",
       "    </tr>\n",
       "    <tr>\n",
       "      <th>1</th>\n",
       "      <td>Algeria</td>\n",
       "      <td>DZA</td>\n",
       "      <td>1/30/2021</td>\n",
       "      <td>30.0</td>\n",
       "      <td>NaN</td>\n",
       "      <td>NaN</td>\n",
       "      <td>30.0</td>\n",
       "      <td>30.0</td>\n",
       "      <td>0.00</td>\n",
       "      <td>NaN</td>\n",
       "      <td>NaN</td>\n",
       "      <td>1.0</td>\n",
       "      <td>Sputnik V</td>\n",
       "      <td>Ministry of Health</td>\n",
       "      <td>https://www.aps.dz/regions/116777-blida-covid-...</td>\n",
       "    </tr>\n",
       "    <tr>\n",
       "      <th>2</th>\n",
       "      <td>Argentina</td>\n",
       "      <td>ARG</td>\n",
       "      <td>12/29/2020</td>\n",
       "      <td>700.0</td>\n",
       "      <td>NaN</td>\n",
       "      <td>NaN</td>\n",
       "      <td>NaN</td>\n",
       "      <td>NaN</td>\n",
       "      <td>0.00</td>\n",
       "      <td>NaN</td>\n",
       "      <td>NaN</td>\n",
       "      <td>NaN</td>\n",
       "      <td>Sputnik V</td>\n",
       "      <td>Ministry of Health</td>\n",
       "      <td>http://datos.salud.gob.ar/dataset/vacunas-cont...</td>\n",
       "    </tr>\n",
       "    <tr>\n",
       "      <th>3</th>\n",
       "      <td>Argentina</td>\n",
       "      <td>ARG</td>\n",
       "      <td>12/30/2020</td>\n",
       "      <td>NaN</td>\n",
       "      <td>NaN</td>\n",
       "      <td>NaN</td>\n",
       "      <td>NaN</td>\n",
       "      <td>15656.0</td>\n",
       "      <td>NaN</td>\n",
       "      <td>NaN</td>\n",
       "      <td>NaN</td>\n",
       "      <td>346.0</td>\n",
       "      <td>Sputnik V</td>\n",
       "      <td>Ministry of Health</td>\n",
       "      <td>http://datos.salud.gob.ar/dataset/vacunas-cont...</td>\n",
       "    </tr>\n",
       "    <tr>\n",
       "      <th>4</th>\n",
       "      <td>Argentina</td>\n",
       "      <td>ARG</td>\n",
       "      <td>12/31/2020</td>\n",
       "      <td>32013.0</td>\n",
       "      <td>NaN</td>\n",
       "      <td>NaN</td>\n",
       "      <td>NaN</td>\n",
       "      <td>15656.0</td>\n",
       "      <td>0.07</td>\n",
       "      <td>NaN</td>\n",
       "      <td>NaN</td>\n",
       "      <td>346.0</td>\n",
       "      <td>Sputnik V</td>\n",
       "      <td>Ministry of Health</td>\n",
       "      <td>http://datos.salud.gob.ar/dataset/vacunas-cont...</td>\n",
       "    </tr>\n",
       "    <tr>\n",
       "      <th>...</th>\n",
       "      <td>...</td>\n",
       "      <td>...</td>\n",
       "      <td>...</td>\n",
       "      <td>...</td>\n",
       "      <td>...</td>\n",
       "      <td>...</td>\n",
       "      <td>...</td>\n",
       "      <td>...</td>\n",
       "      <td>...</td>\n",
       "      <td>...</td>\n",
       "      <td>...</td>\n",
       "      <td>...</td>\n",
       "      <td>...</td>\n",
       "      <td>...</td>\n",
       "      <td>...</td>\n",
       "    </tr>\n",
       "    <tr>\n",
       "      <th>1840</th>\n",
       "      <td>Wales</td>\n",
       "      <td>NaN</td>\n",
       "      <td>1/26/2021</td>\n",
       "      <td>312944.0</td>\n",
       "      <td>312305.0</td>\n",
       "      <td>639.0</td>\n",
       "      <td>22797.0</td>\n",
       "      <td>19537.0</td>\n",
       "      <td>9.93</td>\n",
       "      <td>9.91</td>\n",
       "      <td>0.02</td>\n",
       "      <td>6197.0</td>\n",
       "      <td>Oxford/AstraZeneca, Pfizer/BioNTech</td>\n",
       "      <td>Government of the United Kingdom</td>\n",
       "      <td>https://coronavirus.data.gov.uk/details/health...</td>\n",
       "    </tr>\n",
       "    <tr>\n",
       "      <th>1841</th>\n",
       "      <td>Wales</td>\n",
       "      <td>NaN</td>\n",
       "      <td>1/27/2021</td>\n",
       "      <td>336745.0</td>\n",
       "      <td>336071.0</td>\n",
       "      <td>674.0</td>\n",
       "      <td>23801.0</td>\n",
       "      <td>20845.0</td>\n",
       "      <td>10.68</td>\n",
       "      <td>10.66</td>\n",
       "      <td>0.02</td>\n",
       "      <td>6611.0</td>\n",
       "      <td>Oxford/AstraZeneca, Pfizer/BioNTech</td>\n",
       "      <td>Government of the United Kingdom</td>\n",
       "      <td>https://coronavirus.data.gov.uk/details/health...</td>\n",
       "    </tr>\n",
       "    <tr>\n",
       "      <th>1842</th>\n",
       "      <td>Wales</td>\n",
       "      <td>NaN</td>\n",
       "      <td>1/28/2021</td>\n",
       "      <td>362970.0</td>\n",
       "      <td>362253.0</td>\n",
       "      <td>717.0</td>\n",
       "      <td>26225.0</td>\n",
       "      <td>21463.0</td>\n",
       "      <td>11.51</td>\n",
       "      <td>11.49</td>\n",
       "      <td>0.02</td>\n",
       "      <td>6807.0</td>\n",
       "      <td>Oxford/AstraZeneca, Pfizer/BioNTech</td>\n",
       "      <td>Government of the United Kingdom</td>\n",
       "      <td>https://coronavirus.data.gov.uk/details/health...</td>\n",
       "    </tr>\n",
       "    <tr>\n",
       "      <th>1843</th>\n",
       "      <td>Wales</td>\n",
       "      <td>NaN</td>\n",
       "      <td>1/29/2021</td>\n",
       "      <td>378950.0</td>\n",
       "      <td>378200.0</td>\n",
       "      <td>750.0</td>\n",
       "      <td>15980.0</td>\n",
       "      <td>19705.0</td>\n",
       "      <td>12.02</td>\n",
       "      <td>12.00</td>\n",
       "      <td>0.02</td>\n",
       "      <td>6250.0</td>\n",
       "      <td>Oxford/AstraZeneca, Pfizer/BioNTech</td>\n",
       "      <td>Government of the United Kingdom</td>\n",
       "      <td>https://coronavirus.data.gov.uk/details/health...</td>\n",
       "    </tr>\n",
       "    <tr>\n",
       "      <th>1844</th>\n",
       "      <td>Wales</td>\n",
       "      <td>NaN</td>\n",
       "      <td>1/30/2021</td>\n",
       "      <td>404249.0</td>\n",
       "      <td>403463.0</td>\n",
       "      <td>786.0</td>\n",
       "      <td>25299.0</td>\n",
       "      <td>19885.0</td>\n",
       "      <td>12.82</td>\n",
       "      <td>12.80</td>\n",
       "      <td>0.02</td>\n",
       "      <td>6307.0</td>\n",
       "      <td>Oxford/AstraZeneca, Pfizer/BioNTech</td>\n",
       "      <td>Government of the United Kingdom</td>\n",
       "      <td>https://coronavirus.data.gov.uk/details/health...</td>\n",
       "    </tr>\n",
       "  </tbody>\n",
       "</table>\n",
       "<p>1845 rows × 15 columns</p>\n",
       "</div>"
      ],
      "text/plain": [
       "        country iso_code        date  total_vaccinations  people_vaccinated  \\\n",
       "0       Algeria      DZA   1/29/2021                 0.0                NaN   \n",
       "1       Algeria      DZA   1/30/2021                30.0                NaN   \n",
       "2     Argentina      ARG  12/29/2020               700.0                NaN   \n",
       "3     Argentina      ARG  12/30/2020                 NaN                NaN   \n",
       "4     Argentina      ARG  12/31/2020             32013.0                NaN   \n",
       "...         ...      ...         ...                 ...                ...   \n",
       "1840      Wales      NaN   1/26/2021            312944.0           312305.0   \n",
       "1841      Wales      NaN   1/27/2021            336745.0           336071.0   \n",
       "1842      Wales      NaN   1/28/2021            362970.0           362253.0   \n",
       "1843      Wales      NaN   1/29/2021            378950.0           378200.0   \n",
       "1844      Wales      NaN   1/30/2021            404249.0           403463.0   \n",
       "\n",
       "      people_fully_vaccinated  daily_vaccinations_raw  daily_vaccinations  \\\n",
       "0                         NaN                     NaN                 NaN   \n",
       "1                         NaN                    30.0                30.0   \n",
       "2                         NaN                     NaN                 NaN   \n",
       "3                         NaN                     NaN             15656.0   \n",
       "4                         NaN                     NaN             15656.0   \n",
       "...                       ...                     ...                 ...   \n",
       "1840                    639.0                 22797.0             19537.0   \n",
       "1841                    674.0                 23801.0             20845.0   \n",
       "1842                    717.0                 26225.0             21463.0   \n",
       "1843                    750.0                 15980.0             19705.0   \n",
       "1844                    786.0                 25299.0             19885.0   \n",
       "\n",
       "      total_vaccinations_per_hundred  people_vaccinated_per_hundred  \\\n",
       "0                               0.00                            NaN   \n",
       "1                               0.00                            NaN   \n",
       "2                               0.00                            NaN   \n",
       "3                                NaN                            NaN   \n",
       "4                               0.07                            NaN   \n",
       "...                              ...                            ...   \n",
       "1840                            9.93                           9.91   \n",
       "1841                           10.68                          10.66   \n",
       "1842                           11.51                          11.49   \n",
       "1843                           12.02                          12.00   \n",
       "1844                           12.82                          12.80   \n",
       "\n",
       "      people_fully_vaccinated_per_hundred  daily_vaccinations_per_million  \\\n",
       "0                                     NaN                             NaN   \n",
       "1                                     NaN                             1.0   \n",
       "2                                     NaN                             NaN   \n",
       "3                                     NaN                           346.0   \n",
       "4                                     NaN                           346.0   \n",
       "...                                   ...                             ...   \n",
       "1840                                 0.02                          6197.0   \n",
       "1841                                 0.02                          6611.0   \n",
       "1842                                 0.02                          6807.0   \n",
       "1843                                 0.02                          6250.0   \n",
       "1844                                 0.02                          6307.0   \n",
       "\n",
       "                                 vaccines                       source_name  \\\n",
       "0                               Sputnik V                Ministry of Health   \n",
       "1                               Sputnik V                Ministry of Health   \n",
       "2                               Sputnik V                Ministry of Health   \n",
       "3                               Sputnik V                Ministry of Health   \n",
       "4                               Sputnik V                Ministry of Health   \n",
       "...                                   ...                               ...   \n",
       "1840  Oxford/AstraZeneca, Pfizer/BioNTech  Government of the United Kingdom   \n",
       "1841  Oxford/AstraZeneca, Pfizer/BioNTech  Government of the United Kingdom   \n",
       "1842  Oxford/AstraZeneca, Pfizer/BioNTech  Government of the United Kingdom   \n",
       "1843  Oxford/AstraZeneca, Pfizer/BioNTech  Government of the United Kingdom   \n",
       "1844  Oxford/AstraZeneca, Pfizer/BioNTech  Government of the United Kingdom   \n",
       "\n",
       "                                         source_website  \n",
       "0     https://www.aps.dz/regions/116777-blida-covid-...  \n",
       "1     https://www.aps.dz/regions/116777-blida-covid-...  \n",
       "2     http://datos.salud.gob.ar/dataset/vacunas-cont...  \n",
       "3     http://datos.salud.gob.ar/dataset/vacunas-cont...  \n",
       "4     http://datos.salud.gob.ar/dataset/vacunas-cont...  \n",
       "...                                                 ...  \n",
       "1840  https://coronavirus.data.gov.uk/details/health...  \n",
       "1841  https://coronavirus.data.gov.uk/details/health...  \n",
       "1842  https://coronavirus.data.gov.uk/details/health...  \n",
       "1843  https://coronavirus.data.gov.uk/details/health...  \n",
       "1844  https://coronavirus.data.gov.uk/details/health...  \n",
       "\n",
       "[1845 rows x 15 columns]"
      ]
     },
     "execution_count": 4,
     "metadata": {},
     "output_type": "execute_result"
    }
   ],
   "source": [
    "data"
   ]
  },
  {
   "cell_type": "code",
   "execution_count": 5,
   "metadata": {},
   "outputs": [
    {
     "data": {
      "text/plain": [
       "(1845, 15)"
      ]
     },
     "execution_count": 5,
     "metadata": {},
     "output_type": "execute_result"
    }
   ],
   "source": [
    "data.shape"
   ]
  },
  {
   "cell_type": "code",
   "execution_count": 6,
   "metadata": {},
   "outputs": [
    {
     "data": {
      "text/plain": [
       "country                                   0\n",
       "iso_code                                198\n",
       "date                                      0\n",
       "total_vaccinations                      613\n",
       "people_vaccinated                       876\n",
       "people_fully_vaccinated                1358\n",
       "daily_vaccinations_raw                  837\n",
       "daily_vaccinations                       70\n",
       "total_vaccinations_per_hundred          613\n",
       "people_vaccinated_per_hundred           876\n",
       "people_fully_vaccinated_per_hundred    1358\n",
       "daily_vaccinations_per_million           70\n",
       "vaccines                                  0\n",
       "source_name                               0\n",
       "source_website                            0\n",
       "dtype: int64"
      ]
     },
     "execution_count": 6,
     "metadata": {},
     "output_type": "execute_result"
    }
   ],
   "source": [
    "data.isna().sum()"
   ]
  },
  {
   "cell_type": "code",
   "execution_count": 7,
   "metadata": {},
   "outputs": [],
   "source": [
    "data = data.drop(data[data.total_vaccinations.isna()].index)"
   ]
  },
  {
   "cell_type": "code",
   "execution_count": 12,
   "metadata": {},
   "outputs": [
    {
     "data": {
      "text/plain": [
       "country                                AlgeriaAlgeriaArgentinaArgentinaArgentinaArgen...\n",
       "date                                   1/29/20211/30/202112/29/202012/31/20201/4/2021...\n",
       "total_vaccinations                                                           1.06822e+09\n",
       "people_vaccinated                                                            8.18184e+08\n",
       "people_fully_vaccinated                                                      1.01384e+08\n",
       "daily_vaccinations_raw                                                       6.16456e+07\n",
       "daily_vaccinations                                                           6.13454e+07\n",
       "total_vaccinations_per_hundred                                                   4345.57\n",
       "people_vaccinated_per_hundred                                                    3453.43\n",
       "people_fully_vaccinated_per_hundred                                               379.89\n",
       "daily_vaccinations_per_million                                               2.53799e+06\n",
       "vaccines                               Sputnik VSputnik VSputnik VSputnik VSputnik VS...\n",
       "source_name                            Ministry of HealthMinistry of HealthMinistry o...\n",
       "source_website                         https://www.aps.dz/regions/116777-blida-covid-...\n",
       "dtype: object"
      ]
     },
     "execution_count": 12,
     "metadata": {},
     "output_type": "execute_result"
    }
   ],
   "source": [
    "data.sum()"
   ]
  },
  {
   "cell_type": "code",
   "execution_count": 9,
   "metadata": {},
   "outputs": [],
   "source": [
    "check_data = data.drop(data[data.people_vaccinated.isna()].index)"
   ]
  },
  {
   "cell_type": "code",
   "execution_count": 10,
   "metadata": {},
   "outputs": [
    {
     "data": {
      "text/html": [
       "<div>\n",
       "<style scoped>\n",
       "    .dataframe tbody tr th:only-of-type {\n",
       "        vertical-align: middle;\n",
       "    }\n",
       "\n",
       "    .dataframe tbody tr th {\n",
       "        vertical-align: top;\n",
       "    }\n",
       "\n",
       "    .dataframe thead th {\n",
       "        text-align: right;\n",
       "    }\n",
       "</style>\n",
       "<table border=\"1\" class=\"dataframe\">\n",
       "  <thead>\n",
       "    <tr style=\"text-align: right;\">\n",
       "      <th></th>\n",
       "      <th>country</th>\n",
       "      <th>iso_code</th>\n",
       "      <th>date</th>\n",
       "      <th>total_vaccinations</th>\n",
       "      <th>people_vaccinated</th>\n",
       "      <th>people_fully_vaccinated</th>\n",
       "      <th>daily_vaccinations_raw</th>\n",
       "      <th>daily_vaccinations</th>\n",
       "      <th>total_vaccinations_per_hundred</th>\n",
       "      <th>people_vaccinated_per_hundred</th>\n",
       "      <th>people_fully_vaccinated_per_hundred</th>\n",
       "      <th>daily_vaccinations_per_million</th>\n",
       "      <th>vaccines</th>\n",
       "      <th>source_name</th>\n",
       "      <th>source_website</th>\n",
       "    </tr>\n",
       "  </thead>\n",
       "  <tbody>\n",
       "    <tr>\n",
       "      <th>24</th>\n",
       "      <td>Argentina</td>\n",
       "      <td>ARG</td>\n",
       "      <td>1/20/2021</td>\n",
       "      <td>247933.0</td>\n",
       "      <td>243539.0</td>\n",
       "      <td>4394.0</td>\n",
       "      <td>NaN</td>\n",
       "      <td>11586.0</td>\n",
       "      <td>0.55</td>\n",
       "      <td>0.54</td>\n",
       "      <td>0.01</td>\n",
       "      <td>256.0</td>\n",
       "      <td>Sputnik V</td>\n",
       "      <td>Ministry of Health</td>\n",
       "      <td>http://datos.salud.gob.ar/dataset/vacunas-cont...</td>\n",
       "    </tr>\n",
       "    <tr>\n",
       "      <th>25</th>\n",
       "      <td>Argentina</td>\n",
       "      <td>ARG</td>\n",
       "      <td>1/21/2021</td>\n",
       "      <td>265724.0</td>\n",
       "      <td>249372.0</td>\n",
       "      <td>16352.0</td>\n",
       "      <td>17791.0</td>\n",
       "      <td>11704.0</td>\n",
       "      <td>0.59</td>\n",
       "      <td>0.55</td>\n",
       "      <td>0.04</td>\n",
       "      <td>259.0</td>\n",
       "      <td>Sputnik V</td>\n",
       "      <td>Ministry of Health</td>\n",
       "      <td>http://datos.salud.gob.ar/dataset/vacunas-cont...</td>\n",
       "    </tr>\n",
       "    <tr>\n",
       "      <th>26</th>\n",
       "      <td>Argentina</td>\n",
       "      <td>ARG</td>\n",
       "      <td>1/22/2021</td>\n",
       "      <td>279602.0</td>\n",
       "      <td>254456.0</td>\n",
       "      <td>25146.0</td>\n",
       "      <td>13878.0</td>\n",
       "      <td>11263.0</td>\n",
       "      <td>0.62</td>\n",
       "      <td>0.56</td>\n",
       "      <td>0.06</td>\n",
       "      <td>249.0</td>\n",
       "      <td>Sputnik V</td>\n",
       "      <td>Ministry of Health</td>\n",
       "      <td>http://datos.salud.gob.ar/dataset/vacunas-cont...</td>\n",
       "    </tr>\n",
       "    <tr>\n",
       "      <th>27</th>\n",
       "      <td>Argentina</td>\n",
       "      <td>ARG</td>\n",
       "      <td>1/23/2021</td>\n",
       "      <td>288064.0</td>\n",
       "      <td>258876.0</td>\n",
       "      <td>29188.0</td>\n",
       "      <td>8462.0</td>\n",
       "      <td>11124.0</td>\n",
       "      <td>0.64</td>\n",
       "      <td>0.57</td>\n",
       "      <td>0.06</td>\n",
       "      <td>246.0</td>\n",
       "      <td>Sputnik V</td>\n",
       "      <td>Ministry of Health</td>\n",
       "      <td>http://datos.salud.gob.ar/dataset/vacunas-cont...</td>\n",
       "    </tr>\n",
       "    <tr>\n",
       "      <th>28</th>\n",
       "      <td>Argentina</td>\n",
       "      <td>ARG</td>\n",
       "      <td>1/24/2021</td>\n",
       "      <td>292023.0</td>\n",
       "      <td>260036.0</td>\n",
       "      <td>31987.0</td>\n",
       "      <td>3959.0</td>\n",
       "      <td>10342.0</td>\n",
       "      <td>0.65</td>\n",
       "      <td>0.58</td>\n",
       "      <td>0.07</td>\n",
       "      <td>229.0</td>\n",
       "      <td>Sputnik V</td>\n",
       "      <td>Ministry of Health</td>\n",
       "      <td>http://datos.salud.gob.ar/dataset/vacunas-cont...</td>\n",
       "    </tr>\n",
       "  </tbody>\n",
       "</table>\n",
       "</div>"
      ],
      "text/plain": [
       "      country iso_code       date  total_vaccinations  people_vaccinated  \\\n",
       "24  Argentina      ARG  1/20/2021            247933.0           243539.0   \n",
       "25  Argentina      ARG  1/21/2021            265724.0           249372.0   \n",
       "26  Argentina      ARG  1/22/2021            279602.0           254456.0   \n",
       "27  Argentina      ARG  1/23/2021            288064.0           258876.0   \n",
       "28  Argentina      ARG  1/24/2021            292023.0           260036.0   \n",
       "\n",
       "    people_fully_vaccinated  daily_vaccinations_raw  daily_vaccinations  \\\n",
       "24                   4394.0                     NaN             11586.0   \n",
       "25                  16352.0                 17791.0             11704.0   \n",
       "26                  25146.0                 13878.0             11263.0   \n",
       "27                  29188.0                  8462.0             11124.0   \n",
       "28                  31987.0                  3959.0             10342.0   \n",
       "\n",
       "    total_vaccinations_per_hundred  people_vaccinated_per_hundred  \\\n",
       "24                            0.55                           0.54   \n",
       "25                            0.59                           0.55   \n",
       "26                            0.62                           0.56   \n",
       "27                            0.64                           0.57   \n",
       "28                            0.65                           0.58   \n",
       "\n",
       "    people_fully_vaccinated_per_hundred  daily_vaccinations_per_million  \\\n",
       "24                                 0.01                           256.0   \n",
       "25                                 0.04                           259.0   \n",
       "26                                 0.06                           249.0   \n",
       "27                                 0.06                           246.0   \n",
       "28                                 0.07                           229.0   \n",
       "\n",
       "     vaccines         source_name  \\\n",
       "24  Sputnik V  Ministry of Health   \n",
       "25  Sputnik V  Ministry of Health   \n",
       "26  Sputnik V  Ministry of Health   \n",
       "27  Sputnik V  Ministry of Health   \n",
       "28  Sputnik V  Ministry of Health   \n",
       "\n",
       "                                       source_website  \n",
       "24  http://datos.salud.gob.ar/dataset/vacunas-cont...  \n",
       "25  http://datos.salud.gob.ar/dataset/vacunas-cont...  \n",
       "26  http://datos.salud.gob.ar/dataset/vacunas-cont...  \n",
       "27  http://datos.salud.gob.ar/dataset/vacunas-cont...  \n",
       "28  http://datos.salud.gob.ar/dataset/vacunas-cont...  "
      ]
     },
     "execution_count": 10,
     "metadata": {},
     "output_type": "execute_result"
    }
   ],
   "source": [
    "check_data.head()"
   ]
  },
  {
   "cell_type": "code",
   "execution_count": 11,
   "metadata": {},
   "outputs": [
    {
     "data": {
      "image/png": "[encoded data removed]",
      "text/plain": [
       "<Figure size 720x720 with 2 Axes>"
      ]
     },
     "metadata": {
      "needs_background": "light"
     },
     "output_type": "display_data"
    }
   ],
   "source": [
    "plt.subplots(figsize=(10, 10))\n",
    "sns.heatmap(check_data.corr(), annot=True, square=True)\n",
    "plt.show()"
   ]
  },
  {
   "cell_type": "code",
   "execution_count": 21,
   "metadata": {},
   "outputs": [
    {
     "data": {
      "text/plain": [
       "MannwhitneyuResult(statistic=446469.0, pvalue=0.28872423362050614)"
      ]
     },
     "execution_count": 21,
     "metadata": {},
     "output_type": "execute_result"
    }
   ],
   "source": [
    "scipy.stats.mannwhitneyu(check_data.total_vaccinations, check_data.people_vaccinated)"
   ]
  },
  {
   "cell_type": "code",
   "execution_count": 22,
   "metadata": {},
   "outputs": [],
   "source": [
    "diff = check_data.total_vaccinations.mean() - check_data.people_vaccinated.mean()"
   ]
  },
  {
   "cell_type": "code",
   "execution_count": 23,
   "metadata": {},
   "outputs": [],
   "source": [
    "diff_per_hundred = check_data.total_vaccinations_per_hundred.mean() - check_data.people_vaccinated_per_hundred.mean()"
   ]
  },
  {
   "cell_type": "code",
   "execution_count": 25,
   "metadata": {},
   "outputs": [],
   "source": [
    "data.people_vaccinated = data.people_vaccinated.fillna(data.total_vaccinations - diff)"
   ]
  },
  {
   "cell_type": "code",
   "execution_count": 27,
   "metadata": {},
   "outputs": [],
   "source": [
    "data.people_vaccinated_per_hundred = data.people_vaccinated_per_hundred.fillna(data.total_vaccinations_per_hundred - diff_per_hundred)"
   ]
  },
  {
   "cell_type": "code",
   "execution_count": 1,
   "metadata": {},
   "outputs": [
    {
     "ename": "NameError",
     "evalue": "name 'data' is not defined",
     "output_type": "error",
     "traceback": [
      "\u001b[1;31m---------------------------------------------------------------------------\u001b[0m",
      "\u001b[1;31mNameError\u001b[0m                                 Traceback (most recent call last)",
      "\u001b[1;32m<ipython-input-1-1a71ea4920a7>\u001b[0m in \u001b[0;36m<module>\u001b[1;34m\u001b[0m\n\u001b[1;32m----> 1\u001b[1;33m \u001b[0mdata\u001b[0m\u001b[1;33m.\u001b[0m\u001b[0msum\u001b[0m\u001b[1;33m(\u001b[0m\u001b[1;33m)\u001b[0m\u001b[1;33m\u001b[0m\u001b[1;33m\u001b[0m\u001b[0m\n\u001b[0m",
      "\u001b[1;31mNameError\u001b[0m: name 'data' is not defined"
     ]
    }
   ],
   "source": [
    "data.sum()"
   ]
  },
  {
   "cell_type": "code",
   "execution_count": 29,
   "metadata": {},
   "outputs": [],
   "source": [
    "data.daily_vaccinations = data.daily_vaccinations.fillna(0)\n",
    "data.daily_vaccinations_per_million = data.daily_vaccinations_per_million.fillna(0)"
   ]
  },
  {
   "cell_type": "code",
   "execution_count": 30,
   "metadata": {},
   "outputs": [],
   "source": [
    "data.people_fully_vaccinated = data.people_fully_vaccinated.fillna(0)\n",
    "data.people_fully_vaccinated_per_hundred = data.people_fully_vaccinated_per_hundred.fillna(0)"
   ]
  },
  {
   "cell_type": "code",
   "execution_count": 31,
   "metadata": {},
   "outputs": [],
   "source": [
    "data.daily_vaccinations_raw = data.daily_vaccinations_raw.fillna(0)"
   ]
  },
  {
   "cell_type": "code",
   "execution_count": 33,
   "metadata": {},
   "outputs": [
    {
     "data": {
      "text/plain": [
       "country                                 0\n",
       "iso_code                               98\n",
       "date                                    0\n",
       "total_vaccinations                      0\n",
       "people_vaccinated                       0\n",
       "people_fully_vaccinated                 0\n",
       "daily_vaccinations_raw                  0\n",
       "daily_vaccinations                      0\n",
       "total_vaccinations_per_hundred          0\n",
       "people_vaccinated_per_hundred           0\n",
       "people_fully_vaccinated_per_hundred     0\n",
       "daily_vaccinations_per_million          0\n",
       "vaccines                                0\n",
       "source_name                             0\n",
       "source_website                          0\n",
       "dtype: int64"
      ]
     },
     "execution_count": 33,
     "metadata": {},
     "output_type": "execute_result"
    }
   ],
   "source": [
    "data.isna().sum()"
   ]
  },
  {
   "cell_type": "code",
   "execution_count": 34,
   "metadata": {},
   "outputs": [
    {
     "data": {
      "text/plain": [
       "array(['England', 'Northern Cyprus', 'Northern Ireland', 'Scotland',\n",
       "       'Wales'], dtype=object)"
      ]
     },
     "execution_count": 34,
     "metadata": {},
     "output_type": "execute_result"
    }
   ],
   "source": [
    "data[data.iso_code.isna()].country.unique()"
   ]
  },
  {
   "cell_type": "code",
   "execution_count": 35,
   "metadata": {},
   "outputs": [],
   "source": [
    "data[data.country == 'England'] = data[data.country == 'England'].fillna('GB-ENG')\n",
    "data[data.country == 'Northern Ireland'] == data[data.country == 'Northern Ireland'].fillna('GB-NIR')\n",
    "data[data.country == 'Scotland'] = data[data.country == 'Scotland'].fillna('GB-SCT')\n",
    "data[data.country == 'Wales'] = data[data.country == 'Wales'].fillna('GB-WLS')\n",
    "data = data.fillna('NC')"
   ]
  },
  {
   "cell_type": "code",
   "execution_count": 36,
   "metadata": {},
   "outputs": [
    {
     "data": {
      "text/plain": [
       "country                                0\n",
       "iso_code                               0\n",
       "date                                   0\n",
       "total_vaccinations                     0\n",
       "people_vaccinated                      0\n",
       "people_fully_vaccinated                0\n",
       "daily_vaccinations_raw                 0\n",
       "daily_vaccinations                     0\n",
       "total_vaccinations_per_hundred         0\n",
       "people_vaccinated_per_hundred          0\n",
       "people_fully_vaccinated_per_hundred    0\n",
       "daily_vaccinations_per_million         0\n",
       "vaccines                               0\n",
       "source_name                            0\n",
       "source_website                         0\n",
       "dtype: int64"
      ]
     },
     "execution_count": 36,
     "metadata": {},
     "output_type": "execute_result"
    }
   ],
   "source": [
    "data.isna().sum()"
   ]
  },
  {
   "cell_type": "code",
   "execution_count": 37,
   "metadata": {},
   "outputs": [],
   "source": [
    "data.to_csv(\"clean_data.csv\")"
   ]
  },
  {
   "cell_type": "code",
   "execution_count": null,
   "metadata": {},
   "outputs": [],
   "source": []
  }
 ],
 "metadata": {
  "kernelspec": {
   "display_name": "Python 3",
   "language": "python",
   "name": "python3"
  },
  "language_info": {
   "codemirror_mode": {
    "name": "ipython",
    "version": 3
   },
   "file_extension": ".py",
   "mimetype": "text/x-python",
   "name": "python",
   "nbconvert_exporter": "python",
   "pygments_lexer": "ipython3",
   "version": "3.8.3"
  }
 },
 "nbformat": 4,
 "nbformat_minor": 4
}
